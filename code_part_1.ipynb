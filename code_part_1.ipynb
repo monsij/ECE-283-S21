{
 "cells": [
  {
   "cell_type": "markdown",
   "id": "ddcee589",
   "metadata": {},
   "source": [
    "# Problem 1"
   ]
  },
  {
   "cell_type": "markdown",
   "id": "92ad7187",
   "metadata": {},
   "source": [
    "## a)"
   ]
  },
  {
   "cell_type": "code",
   "execution_count": 1,
   "id": "50c4420b",
   "metadata": {},
   "outputs": [],
   "source": [
    "import numpy as np\n",
    "import hickle as hkl\n",
    "import matplotlib.pyplot as plt\n",
    "from jupyterthemes import jtplot\n",
    "\n",
    "# Refer to ./data_generator.ipynb for generating u and training examples\n",
    "\n",
    "d = 100 #dimensions\n",
    "\n",
    "u_mat = hkl.load('u_mat_rev.hkl')"
   ]
  },
  {
   "cell_type": "code",
   "execution_count": 2,
   "id": "ddc6dee0",
   "metadata": {},
   "outputs": [
    {
     "name": "stdout",
     "output_type": "stream",
     "text": [
      "Dot product of u 1 ,u 2 :  -1.0\n",
      "Dot product of u 1 ,u 3 :  1.0\n",
      "Dot product of u 1 ,u 4 :  3.0\n",
      "Dot product of u 1 ,u 5 :  2.0\n",
      "Dot product of u 1 ,u 6 :  -3.0\n",
      "\n",
      "\n",
      "Dot product of u 2 ,u 1 :  -1.0\n",
      "Dot product of u 2 ,u 3 :  -3.0\n",
      "Dot product of u 2 ,u 4 :  -3.0\n",
      "Dot product of u 2 ,u 5 :  1.0\n",
      "Dot product of u 2 ,u 6 :  -3.0\n",
      "\n",
      "\n",
      "Dot product of u 3 ,u 1 :  1.0\n",
      "Dot product of u 3 ,u 2 :  -3.0\n",
      "Dot product of u 3 ,u 4 :  2.0\n",
      "Dot product of u 3 ,u 5 :  2.0\n",
      "Dot product of u 3 ,u 6 :  -4.0\n",
      "\n",
      "\n",
      "Dot product of u 4 ,u 1 :  3.0\n",
      "Dot product of u 4 ,u 2 :  -3.0\n",
      "Dot product of u 4 ,u 3 :  2.0\n",
      "Dot product of u 4 ,u 5 :  1.0\n",
      "Dot product of u 4 ,u 6 :  1.0\n",
      "\n",
      "\n",
      "Dot product of u 5 ,u 1 :  2.0\n",
      "Dot product of u 5 ,u 2 :  1.0\n",
      "Dot product of u 5 ,u 3 :  2.0\n",
      "Dot product of u 5 ,u 4 :  1.0\n",
      "Dot product of u 5 ,u 6 :  1.0\n",
      "\n",
      "\n",
      "Dot product of u 6 ,u 1 :  -3.0\n",
      "Dot product of u 6 ,u 2 :  -3.0\n",
      "Dot product of u 6 ,u 3 :  -4.0\n",
      "Dot product of u 6 ,u 4 :  1.0\n",
      "Dot product of u 6 ,u 5 :  1.0\n",
      "\n",
      "\n"
     ]
    }
   ],
   "source": [
    "# Checking quasi-orthogonality for u\n",
    "\n",
    "for i in range(6):\n",
    "    for j in range(6):\n",
    "        u_i  = u_mat[:,i]\n",
    "        u_j  = u_mat[:,j]\n",
    "        if (i!=j):\n",
    "            print('Dot product of u',i+1, ',u',j+1,': ', np.dot(u_i,u_j))\n",
    "    print('\\n')"
   ]
  },
  {
   "cell_type": "code",
   "execution_count": 3,
   "id": "ea9434e1",
   "metadata": {},
   "outputs": [
    {
     "name": "stdout",
     "output_type": "stream",
     "text": [
      "[323.]\n"
     ]
    }
   ],
   "source": [
    "# Component count check\n",
    "N = 1000  # varies\n",
    "d = 100 # varies\n",
    "filenameP= 'p1_data_'\n",
    "filenameS = '_dim_' + str(d) + '.hkl'\n",
    "info = hkl.load(filenameP + str(N) + filenameS)\n",
    "col = np.array([[1],[0],[0]])\n",
    "ss = sum(info['label'] @ col)\n",
    "print(ss)\n",
    "# 331 365 304"
   ]
  },
  {
   "cell_type": "code",
   "execution_count": 4,
   "id": "e3a8343c",
   "metadata": {},
   "outputs": [
    {
     "name": "stdout",
     "output_type": "stream",
     "text": [
      "6\n"
     ]
    }
   ],
   "source": [
    "N = 1000  # varies\n",
    "d = 100 # varies\n",
    "filenameP= 'p1_data_'\n",
    "filenameS = '_dim_' + str(d) + '.hkl'\n",
    "info = hkl.load(filenameP + str(N) + filenameS)\n",
    "multi_dim_data = info['data']\n",
    "\n",
    "# Demeaning of the data\n",
    "mean_vec = np.mean(multi_dim_data, axis=0)\n",
    "nomean_data = multi_dim_data - mean_vec\n",
    "nomean_data = nomean_data  #(*1/N)\n",
    "\n",
    "u, s, vt = np.linalg.svd(nomean_data,full_matrices=False)  # returns u, s(1d array), v.T\n",
    "#print(s)    #arrray of singular values\n",
    "\n",
    "\n",
    "# Energy Calculation\n",
    "frobenius_norm_sq = sum(s**2)\n",
    "#print(frobenius_norm_sq)\n",
    "d0 = 1\n",
    "var_exp = 0.95\n",
    "current_energy = 0\n",
    "while current_energy < var_exp*frobenius_norm_sq:\n",
    "    current_energy += (s[d0-1]**2)\n",
    "    d0 += 1\n",
    "\n",
    "print(d0)  # components required for explaining $var_exp$ % variance"
   ]
  },
  {
   "cell_type": "markdown",
   "id": "54ae1d3a",
   "metadata": {},
   "source": [
    "d0 (number of dominant singular values) is 6 everytime. This remains constant as N increases"
   ]
  },
  {
   "cell_type": "markdown",
   "id": "6eb1e887",
   "metadata": {},
   "source": [
    "## (b)"
   ]
  },
  {
   "cell_type": "code",
   "execution_count": 27,
   "id": "b754b4a9",
   "metadata": {},
   "outputs": [
    {
     "data": {
      "text/plain": [
       "(3, 6)"
      ]
     },
     "execution_count": 27,
     "metadata": {},
     "output_type": "execute_result"
    }
   ],
   "source": [
    "# Considering d0 components only\n",
    "d0 = 6\n",
    "u_d0 = u[:,:d0]\n",
    "smat = np.diag(s[:d0])\n",
    "low_dim_data = u_d0  @ smat\n",
    "\n",
    "\n",
    "from sklearn.cluster import KMeans\n",
    "\n",
    "num_clusters = 3\n",
    "kmeans = KMeans(init = 'k-means++',n_clusters=num_clusters,verbose=0).fit(low_dim_data)\n",
    "\n",
    "\n",
    "# Converting cluster labels to one-hot encoding\n",
    "pred_label = kmeans.labels_ \n",
    "pred_label_oh = np.zeros((N,num_clusters))\n",
    "for i in range(len(pred_label)):\n",
    "    pred_label_oh[i, pred_label[i]] = 1\n",
    "\n",
    "\n",
    "kmeans.cluster_centers_.shape"
   ]
  },
  {
   "cell_type": "code",
   "execution_count": 6,
   "id": "90e92b55",
   "metadata": {},
   "outputs": [
    {
     "name": "stdout",
     "output_type": "stream",
     "text": [
      "[323.]\n",
      "[341.]\n",
      "[336.]\n",
      "\n",
      "\n",
      "[460.]\n",
      "[199.]\n",
      "[341.]\n"
     ]
    }
   ],
   "source": [
    "# Category wise count\n",
    "# Component count check\n",
    "list_array = [np.array([[1],[0],[0]]),np.array([[0],[1],[0]]),np.array([[0],[0],[1]])]\n",
    "for comp in list_array:\n",
    "    col = comp\n",
    "    ss = sum(info['label'] @ col)\n",
    "    print(ss)\n",
    "    \n",
    "print('\\n')\n",
    "\n",
    "list_array = [np.array([[1],[0],[0]]),np.array([[0],[1],[0]]),np.array([[0],[0],[1]])]\n",
    "for comp in list_array:\n",
    "    col = comp\n",
    "    ss = sum(pred_label_oh @ col)\n",
    "    print(ss)\n",
    "\n",
    "# 3 -> 2\n",
    "# 2 -> 1\n",
    "# 1 -> 3"
   ]
  },
  {
   "cell_type": "code",
   "execution_count": 24,
   "id": "0c1784d6",
   "metadata": {},
   "outputs": [
    {
     "name": "stdout",
     "output_type": "stream",
     "text": [
      "[1. 0. 0.]\n",
      "[0. 1. 0.]\n",
      "[0.4077381 0.        0.5922619]\n"
     ]
    }
   ],
   "source": [
    "# Generating 3xK table\n",
    "cnt = np.zeros(num_clusters) # components in each predicted cluster for a given $num_clusters$ \n",
    "# [319 350 331] # component wise sample_pt count\n",
    "true_label = info['label']\n",
    "\n",
    "comp_label = np.array([[1,0,0],\n",
    "                      [0,1,0],\n",
    "                      [0,0,1]])\n",
    "\n",
    "total_comp_cnt = np.array([323,341,336])\n",
    "\n",
    "for j in range(3):\n",
    "    cnt = np.zeros(num_clusters)\n",
    "    for i in range(1000):\n",
    "        if np.array_equal(np.array([1,0,0]),pred_label_oh[i,:].reshape(num_clusters)) and np.array_equal(comp_label[j],true_label[i,:].reshape(3)):\n",
    "            cnt[0]+=1\n",
    "        elif np.array_equal(np.array([0,1,0]),pred_label_oh[i,:].reshape(num_clusters)) and np.array_equal(comp_label[j],true_label[i,:].reshape(3)):\n",
    "            cnt[1]+=1\n",
    "        elif np.array_equal(np.array([0,0,1]),pred_label_oh[i,:].reshape(num_clusters)) and np.array_equal(comp_label[j],true_label[i,:].reshape(3)):\n",
    "            cnt[2]+=1\n",
    "\n",
    "    print(cnt/total_comp_cnt[j])"
   ]
  },
  {
   "cell_type": "markdown",
   "id": "90c15e28",
   "metadata": {},
   "source": [
    "# Problem 2"
   ]
  },
  {
   "cell_type": "code",
   "execution_count": 16,
   "id": "16780fe8",
   "metadata": {},
   "outputs": [
    {
     "data": {
      "text/plain": [
       "(6, 6)"
      ]
     },
     "execution_count": 16,
     "metadata": {},
     "output_type": "execute_result"
    }
   ],
   "source": [
    "# d0-dimension projection of u_j's\n",
    "cluster_centers = kmeans.cluster_centers_\n",
    "u_1, s_1, vt_1 = np.linalg.svd(u_mat.T, full_matrices=False)\n",
    "\n",
    "d0 = 6\n",
    "u_1_d0 = u_1[:,:d0]\n",
    "s_1_mat = np.diag(s_1[:d0])\n",
    "proj_u = u_1_d0  @ s_1_mat\n",
    "\n",
    "\n",
    "#smat = np.diag(s_1)\n",
    "#proj_u = u_1 @ smat\n",
    "\n",
    "#print(s_1.shape)\n",
    "#proj_u.shape"
   ]
  },
  {
   "cell_type": "code",
   "execution_count": 55,
   "id": "49227af7",
   "metadata": {},
   "outputs": [],
   "source": [
    "# Extra\n",
    "inner_prod = np.inner(cluster_center,proj_u)\n",
    "inner_prod_norm = np.zeros((num_clusters,d0))\n",
    "for i in range(len(inner_prod)):\n",
    "    inner_prod_norm[i,:] = (inner_prod[i,:] - np.mean(inner_prod,1)[i] )/np.std(inner_prod,1)[i]\n",
    "#inner_prod"
   ]
  },
  {
   "cell_type": "code",
   "execution_count": null,
   "id": "c6d2029f",
   "metadata": {},
   "outputs": [],
   "source": [
    "# Extra\n",
    "plt.plot(np.arange(1,7),inner_prod_norm[0,:],color='r',label='C1')\n",
    "plt.plot(np.arange(1,7),inner_prod_norm[1,:],color='b', label='C2')\n",
    "plt.plot(np.arange(1,7),inner_prod_norm[2,:],color='k',label='C3')\n",
    "plt.grid()\n",
    "plt.legend()\n",
    "plt.xlabel(r'$U_j$')"
   ]
  },
  {
   "cell_type": "code",
   "execution_count": 17,
   "id": "6968c173",
   "metadata": {},
   "outputs": [
    {
     "name": "stdout",
     "output_type": "stream",
     "text": [
      "Distance between C 1  and U_ 1  = 0.9510598320092452 Angle= [[51.65435667]]\n",
      "Distance between C 1  and U_ 2  = 1.7480592258004817 Angle= [[105.51561223]]\n",
      "Distance between C 1  and U_ 3  = 1.0192008785253328 Angle= [[55.20296619]]\n",
      "Distance between C 1  and U_ 4  = 1.0644193394225383 Angle= [[57.95695239]]\n",
      "Distance between C 1  and U_ 5  = 1.6843865608908835 Angle= [[81.97248779]]\n",
      "Distance between C 1  and U_ 6  = 1.8819920506675887 Angle= [[110.16550175]]\n",
      "\n",
      "\n",
      "Distance between C 2  and U_ 1  = 2.1800230247014447 Angle= [[104.36036094]]\n",
      "Distance between C 2  and U_ 2  = 1.348603255164232 Angle= [[49.98742478]]\n",
      "Distance between C 2  and U_ 3  = 2.3515330632442963 Angle= [[116.49475465]]\n",
      "Distance between C 2  and U_ 4  = 2.507468515652374 Angle= [[131.70521151]]\n",
      "Distance between C 2  and U_ 5  = 2.4175337151357095 Angle= [[89.427055]]\n",
      "Distance between C 2  and U_ 6  = 2.3249069386537426 Angle= [[102.50824703]]\n",
      "\n",
      "\n",
      "Distance between C 3  and U_ 1  = 1.9125568216795867 Angle= [[131.01909656]]\n",
      "Distance between C 3  and U_ 2  = 1.654600570258709 Angle= [[101.61583522]]\n",
      "Distance between C 3  and U_ 3  = 1.7760312872705115 Angle= [[114.00018915]]\n",
      "Distance between C 3  and U_ 4  = 1.607799132759616 Angle= [[98.72921984]]\n",
      "Distance between C 3  and U_ 5  = 1.9055184845583586 Angle= [[101.95894048]]\n",
      "Distance between C 3  and U_ 6  = 0.9057089124636309 Angle= [[46.77169708]]\n",
      "\n",
      "\n"
     ]
    }
   ],
   "source": [
    "# Key Geometrix interpretation\n",
    "## Distance,angle calculation between each cluster centre and d0 dimensional u vector\n",
    "import math\n",
    "for i in range(num_clusters):\n",
    "    center = cluster_centers[i,:].reshape(1,d0)\n",
    "    for j in range(6):\n",
    "        u_vec = proj_u[j,:].reshape(1,d0)\n",
    "        #u_vec = u_mat[:,j].reshape(1,d)\n",
    "        dist = np.linalg.norm(center-u_vec)/np.linalg.norm(u_vec)\n",
    "        \n",
    "        unit_c = center/np.linalg.norm(center)\n",
    "        unit_v = u_vec/np.linalg.norm(u_vec)\n",
    "        dot_prod = np.dot(unit_c,unit_v.T)\n",
    "        angle = np.arccos(dot_prod)*180 / math.pi\n",
    "        print('Distance between C',i+1, ' and U_', j+1,' =',dist, 'Angle=',angle)\n",
    "    \n",
    "    print('\\n')"
   ]
  },
  {
   "cell_type": "code",
   "execution_count": 88,
   "id": "b7ab4df4",
   "metadata": {},
   "outputs": [],
   "source": [
    "# Results are intuitive when run on multi-dimensional data (100)"
   ]
  },
  {
   "cell_type": "code",
   "execution_count": null,
   "id": "6f647617",
   "metadata": {},
   "outputs": [],
   "source": []
  }
 ],
 "metadata": {
  "kernelspec": {
   "display_name": "Python 3",
   "language": "python",
   "name": "python3"
  },
  "language_info": {
   "codemirror_mode": {
    "name": "ipython",
    "version": 3
   },
   "file_extension": ".py",
   "mimetype": "text/x-python",
   "name": "python",
   "nbconvert_exporter": "python",
   "pygments_lexer": "ipython3",
   "version": "3.6.13"
  }
 },
 "nbformat": 4,
 "nbformat_minor": 5
}
