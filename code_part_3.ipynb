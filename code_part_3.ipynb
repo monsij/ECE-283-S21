{
 "cells": [
  {
   "cell_type": "markdown",
   "id": "ac990913",
   "metadata": {},
   "source": [
    "# Problem 6"
   ]
  },
  {
   "cell_type": "code",
   "execution_count": 1,
   "id": "db33142e",
   "metadata": {},
   "outputs": [
    {
     "data": {
      "text/plain": [
       "array([-4.33330339e+00, -1.00013421e+00,  1.41451010e+00,  3.37927447e-05,\n",
       "        9.99993226e-01, -9.09007312e-05,  9.99941049e-01, -3.33340110e+00,\n",
       "       -1.41440029e+00,  9.99951504e-01, -9.99764599e-01, -4.95420813e-01,\n",
       "        1.82890530e+00, -9.99822425e-01,  2.41445332e+00, -1.41444551e+00,\n",
       "        3.17542531e-05, -1.02740514e-04, -1.41445668e+00,  4.14600670e-01,\n",
       "       -1.41437867e+00,  1.50448669e+00, -1.96234976e-05,  4.05287151e-05,\n",
       "        8.39231173e-05, -3.33341829e+00,  1.91894202e+00,  1.41448006e+00,\n",
       "        2.41434835e+00,  1.41440749e+00,  2.82874310e+00,  1.41430598e+00,\n",
       "       -1.41443017e+00,  1.41469546e+00,  1.70006279e-04, -1.41428164e+00,\n",
       "        1.41439167e+00, -5.04499752e-01,  1.00007580e+00, -1.82892239e+00,\n",
       "       -9.99987677e-01, -4.14354391e-01,  1.41422766e+00, -1.91876161e+00,\n",
       "       -2.91891447e+00,  2.41443836e+00, -1.41446241e+00, -2.41436487e+00,\n",
       "       -5.23301330e-05,  1.41451312e+00,  1.41442414e+00, -6.05081193e-05,\n",
       "       -2.82894315e+00, -1.41435031e+00,  9.99982359e-01, -3.33340276e+00,\n",
       "        8.87864393e-05, -1.41446707e+00, -1.09373911e-04,  1.41463320e+00,\n",
       "        1.41450150e+00,  5.04383685e-01,  1.91908419e+00, -1.41450606e+00,\n",
       "       -2.82891981e+00,  7.30668230e-05,  2.82903594e+00,  1.41448192e+00,\n",
       "        3.17891441e-05,  9.99885309e-01, -1.41455007e+00, -1.52168646e-04,\n",
       "       -7.95028606e-05,  7.00004295e-05, -4.14364033e-01, -1.91889440e+00,\n",
       "        6.67876643e-05, -5.04452464e-01, -2.41420482e+00,  1.91884556e+00,\n",
       "       -1.41450900e+00,  9.18872958e-01,  2.03206413e-04, -1.41459756e+00,\n",
       "       -2.91907720e+00, -1.91918683e+00, -1.00009744e+00,  3.33340657e+00,\n",
       "        2.82910088e+00,  1.41440822e+00, -4.95401991e-01, -1.41449135e+00,\n",
       "        1.91900977e+00,  1.00006034e+00,  6.48284947e-05, -1.69044705e-05,\n",
       "        7.25004433e-05, -4.43467649e-05,  1.00000192e+00, -1.91904422e+00])"
      ]
     },
     "execution_count": 1,
     "metadata": {},
     "output_type": "execute_result"
    }
   ],
   "source": [
    "import hickle as hkl\n",
    "import math\n",
    "\n",
    "# Loading Phi matrix m*100\n",
    "Phi = hkl.load('./p2_Phi_34.hkl')  # m=10/34/80\n",
    "m=Phi.shape[0]\n",
    "\n",
    "# Load training examples\n",
    "info = hkl.load('p2_data_1000_dim_100.hkl')\n",
    "x_mat = info['noisy_x']   # noisy signal (100x1000)\n",
    "xs_mat = info['sparse_x'] # sparse signal (100x1000)\n",
    "z_mat = info['label']    # one-hot true encoded labels (3x1000)\n",
    "\n",
    "# Projection of training examples to m dimensions\n",
    "p = 1/math.sqrt(m) * Phi @ x_mat\n",
    "x_mat[:,0]"
   ]
  },
  {
   "cell_type": "markdown",
   "id": "5af23510",
   "metadata": {},
   "source": [
    "# Problem 7"
   ]
  },
  {
   "cell_type": "code",
   "execution_count": 2,
   "id": "8a651bf3",
   "metadata": {},
   "outputs": [
    {
     "name": "stdout",
     "output_type": "stream",
     "text": [
      "1 2 74.0 66.82352941176471 7.17647058823529\n",
      "1 3 71.0 98.41176470588232 27.41176470588232\n",
      "1 4 67.0 49.70588235294117 17.294117647058833\n",
      "1 5 55.0 51.117647058823515 3.882352941176485\n",
      "1 6 72.99999999999999 57.4705882352941 15.529411764705884\n",
      "\n",
      "\n",
      "2 1 74.0 66.82352941176471 7.17647058823529\n",
      "2 3 77.00000000000001 80.76470588235293 3.7647058823529136\n",
      "2 4 77.00000000000001 80.29411764705881 3.2941176470587976\n",
      "2 5 55.0 35.58823529411764 19.411764705882362\n",
      "2 6 71.0 71.11764705882351 0.11764705882350768\n",
      "\n",
      "\n",
      "3 1 71.0 98.41176470588232 27.41176470588232\n",
      "3 2 77.00000000000001 80.76470588235293 3.7647058823529136\n",
      "3 4 68.0 93.99999999999997 25.99999999999997\n",
      "3 5 54.0 47.29411764705881 6.705882352941188\n",
      "3 6 74.0 95.88235294117645 21.88235294117645\n",
      "\n",
      "\n",
      "4 1 67.0 49.70588235294117 17.294117647058833\n",
      "4 2 77.00000000000001 80.29411764705881 3.2941176470587976\n",
      "4 3 68.0 93.99999999999997 25.99999999999997\n",
      "4 5 56.0 56.588235294117645 0.588235294117645\n",
      "4 6 64.0 56.235294117647044 7.764705882352956\n",
      "\n",
      "\n",
      "5 1 55.0 51.117647058823515 3.882352941176485\n",
      "5 2 55.0 35.58823529411764 19.411764705882362\n",
      "5 3 54.0 47.29411764705881 6.705882352941188\n",
      "5 4 56.0 56.588235294117645 0.588235294117645\n",
      "5 6 50.00000000000001 49.52941176470586 0.4705882352941444\n",
      "\n",
      "\n",
      "6 1 72.99999999999999 57.4705882352941 15.529411764705884\n",
      "6 2 71.0 71.11764705882351 0.11764705882350768\n",
      "6 3 74.0 95.88235294117645 21.88235294117645\n",
      "6 4 64.0 56.235294117647044 7.764705882352956\n",
      "6 5 50.00000000000001 49.52941176470586 0.4705882352941444\n",
      "\n",
      "\n",
      "% Loss:  10.752941176470586\n",
      "% Normalized Loss:  0.16095038089110325\n"
     ]
    }
   ],
   "source": [
    "# Loading {U} vectors 100x6\n",
    "u_mat = hkl.load('u_mat_rev.hkl')\n",
    "\n",
    "# {U} projected to m dimensional spae\n",
    "u_mat_proj = 1/(math.sqrt(m)) * Phi @ u_mat\n",
    "\n",
    "\n",
    "# Comparing squared Euclidean distances between original and projected {U} vectors\n",
    "import numpy as np\n",
    "\n",
    "loss = 0\n",
    "norm_loss = 0\n",
    "total_pair_dist = 0\n",
    "for i in range(6):\n",
    "    for j in range(6):\n",
    "        if i!=j:\n",
    "            # Calculating squared euclidean distance (l2 norm ^2 ) for ith and jth vectors of u_mat\n",
    "            d_dim_Edist = np.linalg.norm(u_mat[:,i]-u_mat[:,j])**2\n",
    "        \n",
    "            # Calculating squared euclidean distance (l2 norm ^2 ) for ith and jth vectors of u_mat_proj\n",
    "            m_dim_Edist = np.linalg.norm(u_mat_proj[:,i]-u_mat_proj[:,j])**2\n",
    "            print(i+1,j+1,d_dim_Edist, m_dim_Edist,abs(d_dim_Edist-m_dim_Edist))\n",
    "\n",
    "            # loss\n",
    "            #total_pair_dist += d_dim_Edist\n",
    "            loss += abs(d_dim_Edist-m_dim_Edist)\n",
    "            norm_loss += (abs(d_dim_Edist-m_dim_Edist))/d_dim_Edist\n",
    "    print('\\n')\n",
    "\n",
    "print('% Loss: ',loss/30)\n",
    "print('% Normalized Loss: ', norm_loss/30)"
   ]
  },
  {
   "cell_type": "markdown",
   "id": "b697b470",
   "metadata": {},
   "source": [
    "# Problem 8"
   ]
  },
  {
   "cell_type": "code",
   "execution_count": 3,
   "id": "0fe05401",
   "metadata": {},
   "outputs": [],
   "source": [
    "from sklearn.cluster import KMeans\n",
    "import matplotlib.pyplot as plt\n",
    "\n",
    "\n",
    "# Function to generate one-hot encoding of the KMeans Clustering algorithm\n",
    "def oh_encode(prediction, n_cluster):\n",
    "    one_hot_result = np.zeros((len(prediction),n_cluster))\n",
    "    for i in range(len(prediction)):\n",
    "        one_hot_result[i,prediction[i]]=1\n",
    "    return one_hot_result.T\n",
    "\n",
    "\n",
    "\n",
    "# x_mat contains 1000 samples of d-dimensional data\n",
    "# p contains projection of x_mat to m dimensions\n",
    "num_clusters = 3 # varied 2/3/4/5\n",
    "kmeans = KMeans(init='k-means++', n_clusters=num_clusters).fit(p.T)  # fit takes data as (num_samples x num_features)\n",
    "m_k = kmeans.cluster_centers_ # cluster-centers\n",
    "a_mat = oh_encode(kmeans.labels_,num_clusters)  # one-hot encoded labels (num_clusters x 1000)"
   ]
  },
  {
   "cell_type": "code",
   "execution_count": 10,
   "id": "00f101f8",
   "metadata": {},
   "outputs": [
    {
     "name": "stdout",
     "output_type": "stream",
     "text": [
      "[0. 1. 0.]\n",
      "[0.02285714 0.         0.97714286]\n",
      "[0.70694864 0.29305136 0.        ]\n"
     ]
    }
   ],
   "source": [
    "# Finding emperical probabilities P[a_i[k]=1 | z_i[l]=1]  for 3xK table\n",
    "# a_mat -> labels predicted by KMeans\n",
    "# z_mat -> ground truth labels\n",
    "cnt = np.zeros(num_clusters) # components in each predicted cluster for a given $num_clusters$ \n",
    "# [319 350 331] # component wise sample_pt count\n",
    "\n",
    "comp_label = np.array([[1,0,0],\n",
    "                      [0,1,0],\n",
    "                      [0,0,1]])\n",
    "\n",
    "total_comp_cnt = np.array([319,350,331])\n",
    "\n",
    "for j in range(3):\n",
    "    cnt = np.zeros(num_clusters)\n",
    "    for i in range(len(z_mat.T)):\n",
    "        if np.array_equal(np.array([1,0,0]),a_mat[:,i].reshape(num_clusters)) and np.array_equal(comp_label[j],z_mat[:,i].reshape(3)):\n",
    "            cnt[0]+=1\n",
    "        elif np.array_equal(np.array([0,1,0]),a_mat[:,i].reshape(num_clusters)) and np.array_equal(comp_label[j],z_mat[:,i].reshape(3)):\n",
    "            cnt[1]+=1\n",
    "        elif np.array_equal(np.array([0,0,1]),a_mat[:,i].reshape(num_clusters)) and np.array_equal(comp_label[j],z_mat[:,i].reshape(3)):\n",
    "            cnt[2]+=1\n",
    "    print(cnt/total_comp_cnt[j])"
   ]
  },
  {
   "cell_type": "markdown",
   "id": "e292ab02",
   "metadata": {},
   "source": [
    "# Problem 9"
   ]
  },
  {
   "cell_type": "code",
   "execution_count": 4,
   "id": "366f8701",
   "metadata": {},
   "outputs": [
    {
     "name": "stdout",
     "output_type": "stream",
     "text": [
      "Cluster: 1 ,Basis: 1 | Normalised distance: 1.894 | Angle (degrees): 112.667\n",
      "Cluster: 1 ,Basis: 2 | Normalised distance: 1.212 | Angle (degrees): 67.691\n",
      "Cluster: 1 ,Basis: 3 | Normalised distance: 1.42 | Angle (degrees): 92.273\n",
      "Cluster: 1 ,Basis: 4 | Normalised distance: 1.633 | Angle (degrees): 93.763\n",
      "Cluster: 1 ,Basis: 5 | Normalised distance: 1.64 | Angle (degrees): 75.444\n",
      "Cluster: 1 ,Basis: 6 | Normalised distance: 0.727 | Angle (degrees): 36.941\n",
      "\n",
      "\n",
      "Cluster: 2 ,Basis: 1 | Normalised distance: 0.899 | Angle (degrees): 11.839\n",
      "Cluster: 2 ,Basis: 2 | Normalised distance: 2.162 | Angle (degrees): 103.426\n",
      "Cluster: 2 ,Basis: 3 | Normalised distance: 1.978 | Angle (degrees): 108.67\n",
      "Cluster: 2 ,Basis: 4 | Normalised distance: 1.876 | Angle (degrees): 78.756\n",
      "Cluster: 2 ,Basis: 5 | Normalised distance: 2.645 | Angle (degrees): 98.66\n",
      "Cluster: 2 ,Basis: 6 | Normalised distance: 1.867 | Angle (degrees): 79.661\n",
      "\n",
      "\n",
      "Cluster: 3 ,Basis: 1 | Normalised distance: 1.709 | Angle (degrees): 81.479\n",
      "Cluster: 3 ,Basis: 2 | Normalised distance: 1.921 | Angle (degrees): 104.274\n",
      "Cluster: 3 ,Basis: 3 | Normalised distance: 1.679 | Angle (degrees): 100.59\n",
      "Cluster: 3 ,Basis: 4 | Normalised distance: 0.496 | Angle (degrees): 3.254\n",
      "Cluster: 3 ,Basis: 5 | Normalised distance: 2.291 | Angle (degrees): 98.807\n",
      "Cluster: 3 ,Basis: 6 | Normalised distance: 1.751 | Angle (degrees): 88.261\n",
      "\n",
      "\n"
     ]
    }
   ],
   "source": [
    "# Geometric insight into how the cluster centers m_k relate to u_mat_proj\n",
    "# m_k (3xm)\n",
    "# u_mat_proj (mx6)\n",
    "\n",
    "# Distance computation between each cluster center and projected basis vector (u_mat_proj)\n",
    "\n",
    "for cluster_idx in range(num_clusters):\n",
    "    for basis_idx in range(6):\n",
    "        norm_dist = np.linalg.norm(m_k[cluster_idx,:]-u_mat_proj[:,basis_idx]) / np.linalg.norm(u_mat_proj[:,basis_idx])\n",
    "        angle = np.arccos(np.dot(u_mat_proj[:,basis_idx],m_k[cluster_idx,:])/(np.linalg.norm(u_mat_proj[:,basis_idx]) * np.linalg.norm(m_k[cluster_idx,:])))\n",
    "        print('Cluster:',cluster_idx+1, ',Basis:', basis_idx+1, '| Normalised distance:',round(norm_dist,3), '| Angle (degrees):',round(angle*180/(np.pi),3))\n",
    "    print('\\n')\n"
   ]
  },
  {
   "cell_type": "code",
   "execution_count": null,
   "id": "c7f852a2",
   "metadata": {},
   "outputs": [],
   "source": []
  }
 ],
 "metadata": {
  "kernelspec": {
   "display_name": "Python 3",
   "language": "python",
   "name": "python3"
  },
  "language_info": {
   "codemirror_mode": {
    "name": "ipython",
    "version": 3
   },
   "file_extension": ".py",
   "mimetype": "text/x-python",
   "name": "python",
   "nbconvert_exporter": "python",
   "pygments_lexer": "ipython3",
   "version": "3.6.13"
  }
 },
 "nbformat": 4,
 "nbformat_minor": 5
}
