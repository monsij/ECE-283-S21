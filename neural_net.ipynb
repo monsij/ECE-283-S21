{
 "cells": [
  {
   "cell_type": "code",
   "execution_count": 1,
   "id": "286f2942",
   "metadata": {},
   "outputs": [],
   "source": [
    "import numpy as np\n",
    "import math\n",
    "import matplotlib.pyplot as plt"
   ]
  },
  {
   "cell_type": "code",
   "execution_count": 15,
   "id": "f6e18623",
   "metadata": {},
   "outputs": [
    {
     "name": "stdout",
     "output_type": "stream",
     "text": [
      "[Parameter containing:\n",
      "tensor([[0.2385, 0.1702],\n",
      "        [0.8400, 0.3840],\n",
      "        [0.4616, 0.4337],\n",
      "        [0.4987, 0.2195],\n",
      "        [0.3487, 0.6057],\n",
      "        [0.7293, 0.5100],\n",
      "        [0.3479, 0.5527],\n",
      "        [0.1564, 0.5459],\n",
      "        [0.3791, 0.4533],\n",
      "        [0.1475, 0.0705]], requires_grad=True), Parameter containing:\n",
      "tensor([0.0100, 0.0100, 0.0100, 0.0100, 0.0100, 0.0100, 0.0100, 0.0100, 0.0100,\n",
      "        0.0100], requires_grad=True), Parameter containing:\n",
      "tensor([[0.7392, 0.8113, 0.2613, 0.5391, 0.2756, 0.5368, 0.3856, 0.4632, 0.4135,\n",
      "         0.5451]], requires_grad=True), Parameter containing:\n",
      "tensor([0.0100], requires_grad=True)]\n"
     ]
    }
   ],
   "source": [
    "# Setting up NNet\n",
    "import torch\n",
    "import torch.nn as nn\n",
    "import torch.nn.functional as F\n",
    "import numpy as np\n",
    "import math\n",
    "import matplotlib.pyplot as plt\n",
    "import hickle as hkl\n",
    "\n",
    "class NNet(nn.Module):\n",
    "    def __init__(self):\n",
    "        super(NNet, self).__init__()\n",
    "        self.fc1 = nn.Linear(2,10) # H1: 15 or 5 neurons ip -> H1\n",
    "        self.fc2 = nn.Linear(10,1) # H2: 5-10 or 10-15 neurons\n",
    "        #self.fc3 = nn.Linear(15,1)\n",
    "        \n",
    "    def forward(self, x):\n",
    "        x = F.relu(self.fc1(x))   #later torch.tanh\n",
    "        x = self.fc2(x)\n",
    "        return x\n",
    "\n",
    "def weights_init(m):\n",
    "    if isinstance(m, nn.Linear):\n",
    "        nn.init.uniform_(m.weight.data)\n",
    "        m.bias.data.fill_(0.01)\n",
    "\n",
    "net = NNet()\n",
    "net.apply(weights_init)\n",
    "print(list(net.parameters()))"
   ]
  },
  {
   "cell_type": "code",
   "execution_count": null,
   "id": "2bb6234e",
   "metadata": {},
   "outputs": [],
   "source": [
    "# Loading training and validation data to Dataloader\n",
    "data = hkl.load('gaussian_mixture_set_train_1000.hkl')\n",
    "\n",
    "coords_list = list(np.transpose(data['coords']))\n",
    "labels_list = list(np.transpose(data['labels']))\n",
    "tensor_coord = torch.Tensor(coords_list) # transform to torch tensor\n",
    "tensor_labels = torch.tensor(labels_list, dtype=torch.long)\n",
    "gm_trainset = torch.utils.data.TensorDataset(tensor_coord,tensor_labels)\n",
    "trainloader = torch.utils.data.DataLoader(gm_trainset, batch_size=20, shuffle=True, num_workers=2)\n",
    "\n",
    "\n",
    "\n",
    "validation_data = hkl.load('gaussian_mixture_set_validation_100.hkl')\n",
    "coords_list = list(np.transpose(validation_data['coords']))\n",
    "labels_list = list(np.transpose(validation_data['labels']))\n",
    "tensor_coord = torch.Tensor(coords_list) # transform to torch tensor\n",
    "tensor_labels = torch.tensor(labels_list, dtype=torch.long)\n",
    "gm_validset = torch.utils.data.TensorDataset(tensor_coord,tensor_labels)\n",
    "validloader = torch.utils.data.DataLoader(gm_validset, batch_size=20, shuffle=False, num_workers=2)\n"
   ]
  },
  {
   "cell_type": "code",
   "execution_count": 4,
   "id": "d3a7e9c4",
   "metadata": {},
   "outputs": [],
   "source": [
    "# Defining loss function and optimizer\n",
    "import torch.optim as optim\n",
    "criterion = nn.BCEWithLogitsLoss()  #CrossEntropyLoss()\n",
    "optimizer = optim.SGD(net.parameters(), lr=0.001, momentum=0.9)"
   ]
  },
  {
   "cell_type": "code",
   "execution_count": 5,
   "id": "1d6aa3be",
   "metadata": {},
   "outputs": [
    {
     "name": "stdout",
     "output_type": "stream",
     "text": [
      "Finished Training\n"
     ]
    }
   ],
   "source": [
    "net.train()\n",
    "max_epoch = 100\n",
    "max_validation_loss = math.inf\n",
    "training_loss_check = math.inf\n",
    "\n",
    "training_loss_mat = np.array([])\n",
    "validation_loss_mat = np.array([])\n",
    "for epoch in range(max_epoch):\n",
    "    \n",
    "    running_loss = 0.0\n",
    "    for i, iter_data in enumerate(trainloader, 0):\n",
    "        # get the inputs\n",
    "        net.train()\n",
    "        inputs, labels = iter_data\n",
    "        inputs = inputs\n",
    "        labels = labels.flatten()\n",
    "        optimizer.zero_grad()\n",
    "        \n",
    "        # forward + backward + optimize    \n",
    "        outputs = net(inputs)\n",
    "        outputs = outputs.flatten()\n",
    "        labels = labels.type_as(outputs)\n",
    "        loss = criterion(outputs, labels)\n",
    "        loss.backward()\n",
    "        optimizer.step()\n",
    "        \n",
    "        \n",
    "        # print statistics\n",
    "        running_loss += loss.item()\n",
    "    \n",
    "    # validation loss\n",
    "    validation_loss = 0.0\n",
    "    for i, iter_data in enumerate(validloader,0):\n",
    "        net.eval()\n",
    "        inputs,labels = iter_data\n",
    "        inputs = inputs\n",
    "        labels = labels\n",
    "        labels = labels.flatten()\n",
    "        \n",
    "        outputs = net(inputs)\n",
    "        outputs = outputs.flatten()\n",
    "        labels = labels.type_as(outputs)\n",
    "        loss = criterion(outputs, labels)\n",
    "        validation_loss += loss.item() * inputs.size(0)\n",
    "        \n",
    "        \n",
    "    #print('Completed Epochs:%d  ## Training Loss: %0.3f ## Validation Loss: %0.3f' % (epoch+1, running_loss, validation_loss))\n",
    "    training_loss_mat = np.append(training_loss_mat,running_loss)\n",
    "    validation_loss_mat = np.append(validation_loss_mat,validation_loss)\n",
    "print('Finished Training')"
   ]
  },
  {
   "cell_type": "code",
   "execution_count": 6,
   "id": "44e244c5",
   "metadata": {},
   "outputs": [
    {
     "name": "stdout",
     "output_type": "stream",
     "text": [
      "Total samples tested 400\n",
      "Overall Error:  0.5\n",
      "Error Conditional Class-0: 1.000  Class-1: 0.000\n"
     ]
    }
   ],
   "source": [
    "# Testing of the network\n",
    "test_data = hkl.load('gaussian_mixture_set_test_200.hkl')\n",
    "coords_list = list(np.transpose(test_data['coords']))\n",
    "labels_list = list(np.transpose(test_data['labels']))\n",
    "tensor_coord = torch.Tensor(coords_list) # transform to torch tensor\n",
    "tensor_labels = torch.tensor(labels_list, dtype=torch.long)\n",
    "gm_testset = torch.utils.data.TensorDataset(tensor_coord,tensor_labels)\n",
    "testloader = torch.utils.data.DataLoader(gm_testset, batch_size=20, shuffle=False, num_workers=2)\n",
    "dataiter = iter(testloader)\n",
    "\n",
    "\n",
    "error_0 = 0 # True = class-0 , predicted = class-1\n",
    "error_1 = 0 # True = class-1, predicted = class-0\n",
    "correct = 0\n",
    "total = 0\n",
    "net.eval() #with torch.no_grad(), enables certain dropout layers\n",
    "with torch.no_grad():\n",
    "    for i, data in enumerate(testloader,0):\n",
    "        inputs, labels = data\n",
    "        inputs = inputs\n",
    "        labels = labels\n",
    "        outputs = net(inputs)\n",
    "        #outputs = net(inputs.float())\n",
    "        outputs = (torch.sigmoid(outputs)>=0.5).long()\n",
    "        \n",
    "        for j in range(outputs.size(0)):\n",
    "            if outputs.data[j]==0 and labels[j]==1:\n",
    "                error_1 +=1\n",
    "            elif outputs.data[j]==1 and labels[j]==0:\n",
    "                error_0 +=0\n",
    "        \n",
    "        total += labels.size(0)\n",
    "        #print(outputs)\n",
    "        #print(labels)\n",
    "        correct += (outputs == labels).sum().item()\n",
    "\n",
    "print('Total samples tested', total)\n",
    "error_0 = total-correct-error_1\n",
    "print(\"Overall Error: \" ,1-(correct/total))\n",
    "print('Error Conditional Class-0: %0.3f  Class-1: %0.3f'%(error_0/200, error_1/200))\n",
    "#print(total-correct,total-correct-error_0,error_0)"
   ]
  },
  {
   "cell_type": "code",
   "execution_count": 6,
   "id": "8fb4670c",
   "metadata": {},
   "outputs": [],
   "source": [
    "#torch.save(net.state_dict(), './saved/model_Tr_600_h1_50_2.pt')"
   ]
  },
  {
   "cell_type": "code",
   "execution_count": 9,
   "id": "95e1e0ac",
   "metadata": {},
   "outputs": [
    {
     "data": {
      "text/plain": [
       "NNet(\n",
       "  (fc1): Linear(in_features=2, out_features=15, bias=True)\n",
       "  (fc2): Linear(in_features=15, out_features=1, bias=True)\n",
       ")"
      ]
     },
     "execution_count": 9,
     "metadata": {},
     "output_type": "execute_result"
    }
   ],
   "source": [
    "#net = NNet()\n",
    "#net.load_state_dict(torch.load('./saved/model_Tr_1000_h1_100_3.pt'))\n",
    "#net.eval()"
   ]
  },
  {
   "cell_type": "code",
   "execution_count": 16,
   "id": "51f7f5fa",
   "metadata": {},
   "outputs": [],
   "source": [
    "plt.plot(np.arange(1,101),training_loss_mat,c=\"b\",linewidth=1.5, label=\"Training Loss\")\n",
    "plt.plot(np.arange(1,101),validation_loss_mat,c=\"r\",linewidth=1.5, label=\"Validation Loss\")\n",
    "plt.legend(loc='upper right')\n",
    "plt.grid()\n",
    "plt.xlabel('No. of Epochs')\n",
    "plt.ylabel('Loss')\n",
    "#plt.savefig(\"./saved/graphs/learning_100_m05.eps\",dpi=300)"
   ]
  },
  {
   "cell_type": "code",
   "execution_count": 7,
   "id": "5098b552",
   "metadata": {},
   "outputs": [],
   "source": [
    "grid_points = 50\n",
    "xc = np.linspace(-8,12,grid_points)\n",
    "yc = np.linspace(-6,6,grid_points)\n",
    "grid_x, grid_y = np.meshgrid(xc,yc)\n",
    "coords = np.array((grid_x.ravel(),grid_y.ravel())).T\n",
    "\n",
    "\n",
    "prediction = np.zeros(xc.shape[0]) \n",
    "\n",
    "# Testing of the network to generate contour plot\n",
    "testloader = torch.utils.data.DataLoader(coords, batch_size=len(coords), shuffle=False, num_workers=2)\n",
    "dataiter = iter(testloader)\n",
    "\n",
    "\n",
    "correct = 0\n",
    "total = 0\n",
    "net.eval() #with torch.no_grad(), enables certain dropout layers\n",
    "with torch.no_grad():\n",
    "    for i, data in enumerate(testloader,0):\n",
    "        #print(data)\n",
    "        inputs = data\n",
    "        #inputs = inputs\n",
    "        #labels = labels\n",
    "        outputs = net(inputs.float())\n",
    "        prediction = (torch.sigmoid(outputs)>=0.5).long().numpy()\n",
    "        \n",
    "        total += labels.size(0)\n",
    "        #print(outputs)\n",
    "        #print(labels)\n",
    "        #correct += (outputs == labels).sum().item()"
   ]
  },
  {
   "cell_type": "code",
   "execution_count": null,
   "id": "fc3503b5",
   "metadata": {},
   "outputs": [],
   "source": [
    "# Plotting Decision Boundary\n",
    "\n",
    "prediction = prediction.reshape(grid_points,grid_points)\n",
    "#xc = xx.reshape(grid_points,grid_points)\n",
    "#yc = yy.reshape(grid_points,grid_points)\n",
    "# pp = np.zeros((400,400))\n",
    "cmap = plt.cm.get_cmap(\"summer\")\n",
    "plt.contourf(grid_x,grid_y,prediction, cmap=cmap)\n",
    "\n",
    "zero_ind = np.where(test_data['labels']==0)[1]\n",
    "one_ind = np.where(test_data['labels']==1)[1]\n",
    "\n",
    "plt.scatter(test_data['coords'][0,zero_ind],test_data['coords'][1,zero_ind],label = 'Class 0')\n",
    "plt.scatter(test_data['coords'][0,zero_ind],test_data['coords'][1,one_ind],label = 'Class 1')\n",
    "\n",
    "\n",
    "plt.xlabel('X [1]')\n",
    "plt.ylabel('X [2]')\n",
    "plt.legend(loc = 'upper left',fontsize=14)\n",
    "\n",
    "\n",
    "plt.xlim(-8,12)\n",
    "plt.ylim(-6,6)\n",
    "fig = plt.gcf()\n",
    "fig.set_size_inches(6.5, 3.5)\n",
    "#plt.savefig(\"./saved/graphs/nnet_decision_1000_h2_10_15_50_2.eps\",dpi=300)\n"
   ]
  }
 ],
 "metadata": {
  "kernelspec": {
   "display_name": "Python 3",
   "language": "python",
   "name": "python3"
  },
  "language_info": {
   "codemirror_mode": {
    "name": "ipython",
    "version": 3
   },
   "file_extension": ".py",
   "mimetype": "text/x-python",
   "name": "python",
   "nbconvert_exporter": "python",
   "pygments_lexer": "ipython3",
   "version": "3.6.13"
  }
 },
 "nbformat": 4,
 "nbformat_minor": 5
}
